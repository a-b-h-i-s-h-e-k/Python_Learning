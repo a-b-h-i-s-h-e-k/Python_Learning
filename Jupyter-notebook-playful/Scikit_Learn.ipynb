{
 "cells": [
  {
   "cell_type": "markdown",
   "id": "aa232a3e-9d28-4892-9a4a-6e898a48a0b8",
   "metadata": {},
   "source": [
    "In scikit-learn a random split into training and test sets can be quickly computed with the train_test_split helper function. "
   ]
  },
  {
   "cell_type": "code",
   "execution_count": 4,
   "id": "33478b06-64eb-4216-86f1-2c1c15e53446",
   "metadata": {},
   "outputs": [],
   "source": [
    "#!pip install --upgrade scikit-learn\n"
   ]
  },
  {
   "cell_type": "code",
   "execution_count": null,
   "id": "c4a55491-87c2-4bce-a247-85ba0594e13c",
   "metadata": {},
   "outputs": [],
   "source": []
  },
  {
   "cell_type": "code",
   "execution_count": 6,
   "id": "25bae625-acff-4ea0-885f-50488115d048",
   "metadata": {},
   "outputs": [
    {
     "name": "stdout",
     "output_type": "stream",
     "text": [
      "(150, 4) (150,)\n"
     ]
    }
   ],
   "source": [
    "# Importing necessary libraries\n",
    "import numpy as np  # NumPy for array manipulation\n",
    "from sklearn.model_selection import train_test_split  # To split data into training and testing sets\n",
    "from sklearn import datasets  # To load pre-built datasets from scikit-learn\n",
    "from sklearn import svm  # Support Vector Machine (SVM) algorithm for classification\n",
    "\n",
    "# Load the Iris dataset\n",
    "iris = datasets.load_iris()\n",
    "\n",
    "# Extract features (X) and target (y) from the dataset\n",
    "x = iris.data  # Features: measurements of iris flowers\n",
    "y = iris.target  # Target: species of the iris flowers\n",
    "\n",
    "# Print the shapes of the feature matrix and target vector\n",
    "print(x.shape, y.shape)  # Shape of the feature matrix (150 samples, 4 features), target vector (150 labels)\n"
   ]
  },
  {
   "cell_type": "markdown",
   "id": "81f4a4ac-35a4-4567-93a5-31857771aeae",
   "metadata": {},
   "source": [
    "--> x (features): This is your input data. In the case of the Iris dataset, it consists of numerical measurements (like sepal length, sepal width, petal length, and petal width). Each row in x is one sample, and each column represents one feature.\n",
    "\n",
    "--> y (target/labels): This is the output or labels corresponding to the input data. For the Iris dataset, the target labels represent the species of the iris flower (0, 1, 2), where each number corresponds to a different species."
   ]
  },
  {
   "cell_type": "code",
   "execution_count": 8,
   "id": "d5ee1e4e-bd88-4bce-9323-026c9ed3b2e5",
   "metadata": {},
   "outputs": [],
   "source": [
    "# Split the dataset into training and testing sets\n",
    "# test_size=0.4 means 40% of the data will be used for testing, and 60% for training\n",
    "# random_state=0 ensures reproducibility (data shuffling happens the same way every time)\n",
    "x_train, x_test, y_train, y_test = train_test_split(x, y, test_size=0.4, random_state=0)\n"
   ]
  },
  {
   "cell_type": "code",
   "execution_count": 9,
   "id": "7c90fb59-9100-40ca-8b5f-70376fb3268f",
   "metadata": {},
   "outputs": [
    {
     "data": {
      "text/plain": [
       "((90, 4), (90,))"
      ]
     },
     "execution_count": 9,
     "metadata": {},
     "output_type": "execute_result"
    }
   ],
   "source": [
    "# Print the shape of the training data (x_train: features, y_train: labels)\n",
    "x_train.shape, y_train.shape  # (90, 4), (90,)"
   ]
  },
  {
   "cell_type": "code",
   "execution_count": 10,
   "id": "0b46d248-e8b9-4592-a488-a411a46b93fc",
   "metadata": {},
   "outputs": [
    {
     "data": {
      "text/plain": [
       "((60, 4), (60,))"
      ]
     },
     "execution_count": 10,
     "metadata": {},
     "output_type": "execute_result"
    }
   ],
   "source": [
    "# Print the shape of the testing data (x_test: features, y_test: labels)\n",
    "x_test.shape, y_test.shape  # (60, 4), (60,)"
   ]
  },
  {
   "cell_type": "code",
   "execution_count": 11,
   "id": "4de6d4ed-154d-4d06-8cc6-53396ee57067",
   "metadata": {},
   "outputs": [],
   "source": [
    "# Create and train an SVM classifier with a linear kernel\n",
    "# C=1 is a regularization parameter (controls trade-off between a smooth decision boundary and classifying training points correctly)\n",
    "clf = svm.SVC(kernel='linear', C=1).fit(x_train, y_train)"
   ]
  },
  {
   "cell_type": "code",
   "execution_count": 12,
   "id": "dcc3d8b0-a55a-42a8-80a5-47a4b9fff16b",
   "metadata": {},
   "outputs": [
    {
     "data": {
      "text/plain": [
       "0.9666666666666667"
      ]
     },
     "execution_count": 12,
     "metadata": {},
     "output_type": "execute_result"
    }
   ],
   "source": [
    "# Test the model on the test data and return the accuracy score (percentage of correct predictions)\n",
    "clf.score(x_test, y_test)"
   ]
  },
  {
   "cell_type": "code",
   "execution_count": 13,
   "id": "60c882d4-a65a-4f6b-a55a-29ceafd555ec",
   "metadata": {},
   "outputs": [],
   "source": [
    "%config IPCompleter.greedy=True\n"
   ]
  },
  {
   "cell_type": "code",
   "execution_count": null,
   "id": "a35ac33d-743f-45b4-9b4a-044e41086b54",
   "metadata": {},
   "outputs": [],
   "source": []
  }
 ],
 "metadata": {
  "kernelspec": {
   "display_name": "Python 3 (ipykernel)",
   "language": "python",
   "name": "python3"
  },
  "language_info": {
   "codemirror_mode": {
    "name": "ipython",
    "version": 3
   },
   "file_extension": ".py",
   "mimetype": "text/x-python",
   "name": "python",
   "nbconvert_exporter": "python",
   "pygments_lexer": "ipython3",
   "version": "3.10.14"
  }
 },
 "nbformat": 4,
 "nbformat_minor": 5
}
